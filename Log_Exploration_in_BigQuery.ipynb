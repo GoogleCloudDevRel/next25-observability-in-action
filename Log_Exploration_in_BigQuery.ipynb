{
  "cells": [
    {
      "cell_type": "markdown",
      "metadata": {
        "id": "IAwed0oTAdt9"
      },
      "source": [
        "# Setup\n",
        "* The following steps are used for setup only"
      ]
    },
    {
      "cell_type": "code",
      "execution_count": null,
      "metadata": {
        "id": "uu85KXVQ44Ao"
      },
      "outputs": [],
      "source": [
        "# Update below\n",
        "bq_dataset = \"observability_demo\"\n",
        "## REPLACE YOUR PROJECT HERE\n",
        "bq_project = \"\"\n",
        "bq_location = \"US\"\n"
      ]
    },
    {
      "cell_type": "code",
      "execution_count": null,
      "metadata": {
        "colab": {
          "base_uri": "https://localhost:8080/"
        },
        "id": "eUKyKdGJUcEI",
        "outputId": "cd0715c6-ba1b-452b-c484-df09128d288e"
      },
      "outputs": [],
      "source": [
        "!pip install --upgrade firebase-admin"
      ]
    },
    {
      "cell_type": "code",
      "execution_count": null,
      "metadata": {
        "id": "RRual2HfkCQG"
      },
      "outputs": [],
      "source": [
        "import firebase_admin\n",
        "from firebase_admin import credentials\n",
        "from firebase_admin import firestore\n",
        "\n",
        "# Use a service account.\n",
        "# cred = credentials.Certificate('path/to/serviceAccount.json')\n",
        "try:\n",
        "  app = firebase_admin.initialize_app()\n",
        "except:\n",
        "  pass\n",
        "\n",
        "db = firestore.client(database_id=\"o11ydemo\")\n"
      ]
    },
    {
      "cell_type": "markdown",
      "metadata": {
        "id": "ENBA9_W4Z1uL"
      },
      "source": [
        "# Queries"
      ]
    },
    {
      "cell_type": "code",
      "execution_count": null,
      "metadata": {
        "colab": {
          "base_uri": "https://localhost:8080/",
          "height": 1000
        },
        "id": "JNdWD-2jJTzq",
        "outputId": "ac637c97-c610-450e-a441-7c68a54f6c98"
      },
      "outputs": [],
      "source": [
        "import bigframes.pandas as bpd\n",
        "\n",
        "# Look for logs with LLM called, using the JSON format\n",
        "sql = f\"\"\"\n",
        "select TIMESTAMP(jsonPayload.timestamp) AS parsed_timestamp,*\n",
        "from `{bq_project}.observability_demo.run_googleapis_com_stdout`\n",
        "where jsonPayload.message = 'scoring question'\n",
        "\"\"\"\n",
        "log_df = bpd.read_gbq_query(sql)\n",
        "log_df.head(10)"
      ]
    },
    {
      "cell_type": "code",
      "execution_count": null,
      "metadata": {
        "colab": {
          "base_uri": "https://localhost:8080/",
          "height": 1000
        },
        "id": "1GjrYzAH66Bo",
        "outputId": "64b35320-aa5e-47bd-ff8e-78b45ba698c8"
      },
      "outputs": [],
      "source": [
        "sql = f\"\"\"\n",
        "select jsonPayload.timestamp,jsonPayload.qid, jsonPayload.correct\n",
        "from `{bq_project}.observability_demo.run_googleapis_com_stdout`\n",
        "where jsonPayload.message = 'scoring question'\n",
        "\"\"\"\n",
        "print(sql)\n",
        "log_df = bpd.read_gbq_query(sql)\n",
        "log_df.head(50)\n"
      ]
    },
    {
      "cell_type": "code",
      "execution_count": null,
      "metadata": {
        "colab": {
          "base_uri": "https://localhost:8080/",
          "height": 984
        },
        "id": "0FBXpf1i_2Ee",
        "outputId": "8ce6eed0-ce1a-4724-fcad-b9984b209856"
      },
      "outputs": [],
      "source": [
        "log_dict = log_df.to_dict()\n",
        "\n",
        "questions_array = []\n",
        "for collection in [\"FLASH\",\"FLASHLITE\",\"GEMMA3\"]:\n",
        "  doc_ref = db.collection(collection)\n",
        "  docs = doc_ref.stream()\n",
        "  for doc in docs:\n",
        "      # print(f\"{doc.id} => {doc.to_dict()}\")\n",
        "      questions_dict = doc.to_dict()\n",
        "      questions_dict['qid'] = doc.id\n",
        "      questions_array.append(questions_dict)\n",
        "\n",
        "questions_df = bpd.DataFrame(questions_array)\n",
        "second_questions_df = questions_df.copy()\n",
        "questions_df.head(100)"
      ]
    },
    {
      "cell_type": "code",
      "execution_count": null,
      "metadata": {
        "id": "m8zlYZ8fAPPO"
      },
      "outputs": [],
      "source": [
        "lookup_df = log_df.merge(questions_df,left_on='qid',right_on='qid')"
      ]
    },
    {
      "cell_type": "code",
      "execution_count": null,
      "metadata": {
        "colab": {
          "base_uri": "https://localhost:8080/",
          "height": 350
        },
        "id": "rynESL3tdb0w",
        "outputId": "11ba06b0-ee4d-4992-d443-c0b541894264"
      },
      "outputs": [],
      "source": [
        "count_df = lookup_df.groupby([\"code\",\"correct\"]).count()\n",
        "count_df.head(100)"
      ]
    },
    {
      "cell_type": "code",
      "execution_count": null,
      "metadata": {
        "colab": {
          "base_uri": "https://localhost:8080/",
          "height": 616
        },
        "id": "fqfKBjkj_64z",
        "outputId": "f5d3c5a2-3489-4d38-c7d2-53827d9c70fc"
      },
      "outputs": [],
      "source": [
        "\n",
        "# Plot value counts\n",
        "count_df.plot(kind='bar', color='skyblue')"
      ]
    },
    {
      "cell_type": "code",
      "execution_count": null,
      "metadata": {
        "colab": {
          "base_uri": "https://localhost:8080/",
          "height": 430
        },
        "id": "IThMtSzDkAt2",
        "outputId": "8fe144d4-32e0-4f18-f42e-eb36d7d231e6"
      },
      "outputs": [],
      "source": [
        "latest_sql = \"\"\"\n",
        "with filter_table as (\n",
        "    select jsonPayload.session_id as session_id, RANK() OVER (PARTITION BY jsonPayload.message ORDER BY TIMESTAMP(jsonPayload.timestamp) DESC) AS rnk\n",
        "    from `observability_demo.run_googleapis_com_stdout`\n",
        "    where jsonPayload.message = 'scoring question' and jsonPayload.session_id is not null and jsonPayload.answer is not null\n",
        "    qualify rnk < 10\n",
        ")\n",
        "select jsonPayload.session_id, jsonPayload.timestamp, jsonPayload.qid, jsonPayload.correct, jsonPayload.model, jsonPayload.answer\n",
        "from `observability_demo.run_googleapis_com_stdout`\n",
        "where jsonPayload.message = 'scoring question'\n",
        "and jsonPayload.session_id in (\n",
        "  select session_id\n",
        "  from filter_table\n",
        ")\n",
        "\"\"\"\n",
        "latest_df = bpd.read_gbq_query(latest_sql)\n",
        "\n",
        "latest_lookup_df = latest_df.merge(questions_df,left_on='qid',right_on='qid')\n",
        "latest_lookup_df.head(1000)"
      ]
    },
    {
      "cell_type": "code",
      "execution_count": null,
      "metadata": {
        "colab": {
          "base_uri": "https://localhost:8080/",
          "height": 413
        },
        "id": "q0Vm_n7vF_oX",
        "outputId": "bddf83cc-f843-43f7-be84-314653c21351"
      },
      "outputs": [],
      "source": [
        "prompts_sql = \"\"\"\n",
        "with inner_query as (\n",
        "select session_id\n",
        "from (\n",
        "  select JSON_QUERY(cast(data as string),'$.session_id') as session_id, JSON_QUERY(cast(data as string),'$.model'), JSON_QUERY(cast(data as string),'$.prompt') , JSON_QUERY(cast(data as string),'$.formatted_response') , cast(REPLACE(JSON_QUERY(cast(data as string),'$.session_id'),'\"','') as int),\n",
        "  rank() over (ORDER BY cast(REPLACE(JSON_QUERY(cast(data as string),'$.session_id'),'\"','') as int) desc) as rnk\n",
        "  from observability_demo.logPromptsAndResponses\n",
        "  qualify rnk < 10)\n",
        ")\n",
        "select JSON_QUERY(cast(data as string),'$.session_id'), JSON_QUERY(cast(data as string),'$.model'), JSON_QUERY(cast(data as string),'$.prompt') , JSON_QUERY(cast(data as string),'$.formatted_response') , cast(REPLACE(JSON_QUERY(cast(data as string),'$.session_id'),'\"','') as int)\n",
        "from observability_demo.logPromptsAndResponses\n",
        "where JSON_QUERY(cast(data as string),'$.session_id') in (\n",
        "  select *\n",
        "  from inner_query\n",
        ")\n",
        "\"\"\"\n",
        "prompts_df = bpd.read_gbq_query(prompts_sql)\n",
        "\n",
        "prompts_df.head(100)"
      ]
    },
    {
      "cell_type": "markdown",
      "metadata": {
        "id": "0oQOscT0VWzM"
      },
      "source": []
    }
  ],
  "metadata": {
    "colab": {
      "cell_execution_strategy": "setup",
      "collapsed_sections": [
        "IAwed0oTAdt9"
      ],
      "name": "Log Exploration in BigQuery",
      "provenance": []
    },
    "kernelspec": {
      "display_name": "Python 3",
      "name": "python3"
    },
    "language_info": {
      "name": "python"
    }
  },
  "nbformat": 4,
  "nbformat_minor": 0
}
